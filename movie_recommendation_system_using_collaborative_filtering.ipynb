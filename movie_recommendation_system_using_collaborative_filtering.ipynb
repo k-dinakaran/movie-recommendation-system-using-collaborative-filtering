{
  "nbformat": 4,
  "nbformat_minor": 0,
  "metadata": {
    "colab": {
      "provenance": [],
      "gpuType": "T4",
      "authorship_tag": "ABX9TyMNK40akZbcTB6NLVYfiiK/",
      "include_colab_link": true
    },
    "kernelspec": {
      "name": "python3",
      "display_name": "Python 3"
    },
    "language_info": {
      "name": "python"
    },
    "accelerator": "GPU",
    "widgets": {
      "application/vnd.jupyter.widget-state+json": {
        "29a348800a2a4830ace94ec8fc7fa3b3": {
          "model_module": "@jupyter-widgets/controls",
          "model_name": "HBoxModel",
          "model_module_version": "1.5.0",
          "state": {
            "_dom_classes": [],
            "_model_module": "@jupyter-widgets/controls",
            "_model_module_version": "1.5.0",
            "_model_name": "HBoxModel",
            "_view_count": null,
            "_view_module": "@jupyter-widgets/controls",
            "_view_module_version": "1.5.0",
            "_view_name": "HBoxView",
            "box_style": "",
            "children": [
              "IPY_MODEL_0b543e65a7b844c1ae5ca17107c3a8dd",
              "IPY_MODEL_f58c1ce71a4247f6a15c61ba94ffb16c",
              "IPY_MODEL_fca0047086d24ec582062e0f1f845e31"
            ],
            "layout": "IPY_MODEL_a80e9d98edde4ec7bb673ddbec9c343e"
          }
        },
        "0b543e65a7b844c1ae5ca17107c3a8dd": {
          "model_module": "@jupyter-widgets/controls",
          "model_name": "HTMLModel",
          "model_module_version": "1.5.0",
          "state": {
            "_dom_classes": [],
            "_model_module": "@jupyter-widgets/controls",
            "_model_module_version": "1.5.0",
            "_model_name": "HTMLModel",
            "_view_count": null,
            "_view_module": "@jupyter-widgets/controls",
            "_view_module_version": "1.5.0",
            "_view_name": "HTMLView",
            "description": "",
            "description_tooltip": null,
            "layout": "IPY_MODEL_acbde450cdfb470d9f540feaefd47890",
            "placeholder": "​",
            "style": "IPY_MODEL_bf0c802de3d54c5c82cc748178d07b10",
            "value": "100%"
          }
        },
        "f58c1ce71a4247f6a15c61ba94ffb16c": {
          "model_module": "@jupyter-widgets/controls",
          "model_name": "FloatProgressModel",
          "model_module_version": "1.5.0",
          "state": {
            "_dom_classes": [],
            "_model_module": "@jupyter-widgets/controls",
            "_model_module_version": "1.5.0",
            "_model_name": "FloatProgressModel",
            "_view_count": null,
            "_view_module": "@jupyter-widgets/controls",
            "_view_module_version": "1.5.0",
            "_view_name": "ProgressView",
            "bar_style": "success",
            "description": "",
            "description_tooltip": null,
            "layout": "IPY_MODEL_556183e2b62541ffaa2c58319f012b55",
            "max": 20,
            "min": 0,
            "orientation": "horizontal",
            "style": "IPY_MODEL_64e1c29414b5466ca009d80e34c2473c",
            "value": 20
          }
        },
        "fca0047086d24ec582062e0f1f845e31": {
          "model_module": "@jupyter-widgets/controls",
          "model_name": "HTMLModel",
          "model_module_version": "1.5.0",
          "state": {
            "_dom_classes": [],
            "_model_module": "@jupyter-widgets/controls",
            "_model_module_version": "1.5.0",
            "_model_name": "HTMLModel",
            "_view_count": null,
            "_view_module": "@jupyter-widgets/controls",
            "_view_module_version": "1.5.0",
            "_view_name": "HTMLView",
            "description": "",
            "description_tooltip": null,
            "layout": "IPY_MODEL_ebe52e20e2924ec9ba011e7593ca4858",
            "placeholder": "​",
            "style": "IPY_MODEL_2ed15ea709f44164a68473e479c8bf11",
            "value": " 20/20 [04:04&lt;00:00, 12.14s/it]"
          }
        },
        "a80e9d98edde4ec7bb673ddbec9c343e": {
          "model_module": "@jupyter-widgets/base",
          "model_name": "LayoutModel",
          "model_module_version": "1.2.0",
          "state": {
            "_model_module": "@jupyter-widgets/base",
            "_model_module_version": "1.2.0",
            "_model_name": "LayoutModel",
            "_view_count": null,
            "_view_module": "@jupyter-widgets/base",
            "_view_module_version": "1.2.0",
            "_view_name": "LayoutView",
            "align_content": null,
            "align_items": null,
            "align_self": null,
            "border": null,
            "bottom": null,
            "display": null,
            "flex": null,
            "flex_flow": null,
            "grid_area": null,
            "grid_auto_columns": null,
            "grid_auto_flow": null,
            "grid_auto_rows": null,
            "grid_column": null,
            "grid_gap": null,
            "grid_row": null,
            "grid_template_areas": null,
            "grid_template_columns": null,
            "grid_template_rows": null,
            "height": null,
            "justify_content": null,
            "justify_items": null,
            "left": null,
            "margin": null,
            "max_height": null,
            "max_width": null,
            "min_height": null,
            "min_width": null,
            "object_fit": null,
            "object_position": null,
            "order": null,
            "overflow": null,
            "overflow_x": null,
            "overflow_y": null,
            "padding": null,
            "right": null,
            "top": null,
            "visibility": null,
            "width": null
          }
        },
        "acbde450cdfb470d9f540feaefd47890": {
          "model_module": "@jupyter-widgets/base",
          "model_name": "LayoutModel",
          "model_module_version": "1.2.0",
          "state": {
            "_model_module": "@jupyter-widgets/base",
            "_model_module_version": "1.2.0",
            "_model_name": "LayoutModel",
            "_view_count": null,
            "_view_module": "@jupyter-widgets/base",
            "_view_module_version": "1.2.0",
            "_view_name": "LayoutView",
            "align_content": null,
            "align_items": null,
            "align_self": null,
            "border": null,
            "bottom": null,
            "display": null,
            "flex": null,
            "flex_flow": null,
            "grid_area": null,
            "grid_auto_columns": null,
            "grid_auto_flow": null,
            "grid_auto_rows": null,
            "grid_column": null,
            "grid_gap": null,
            "grid_row": null,
            "grid_template_areas": null,
            "grid_template_columns": null,
            "grid_template_rows": null,
            "height": null,
            "justify_content": null,
            "justify_items": null,
            "left": null,
            "margin": null,
            "max_height": null,
            "max_width": null,
            "min_height": null,
            "min_width": null,
            "object_fit": null,
            "object_position": null,
            "order": null,
            "overflow": null,
            "overflow_x": null,
            "overflow_y": null,
            "padding": null,
            "right": null,
            "top": null,
            "visibility": null,
            "width": null
          }
        },
        "bf0c802de3d54c5c82cc748178d07b10": {
          "model_module": "@jupyter-widgets/controls",
          "model_name": "DescriptionStyleModel",
          "model_module_version": "1.5.0",
          "state": {
            "_model_module": "@jupyter-widgets/controls",
            "_model_module_version": "1.5.0",
            "_model_name": "DescriptionStyleModel",
            "_view_count": null,
            "_view_module": "@jupyter-widgets/base",
            "_view_module_version": "1.2.0",
            "_view_name": "StyleView",
            "description_width": ""
          }
        },
        "556183e2b62541ffaa2c58319f012b55": {
          "model_module": "@jupyter-widgets/base",
          "model_name": "LayoutModel",
          "model_module_version": "1.2.0",
          "state": {
            "_model_module": "@jupyter-widgets/base",
            "_model_module_version": "1.2.0",
            "_model_name": "LayoutModel",
            "_view_count": null,
            "_view_module": "@jupyter-widgets/base",
            "_view_module_version": "1.2.0",
            "_view_name": "LayoutView",
            "align_content": null,
            "align_items": null,
            "align_self": null,
            "border": null,
            "bottom": null,
            "display": null,
            "flex": null,
            "flex_flow": null,
            "grid_area": null,
            "grid_auto_columns": null,
            "grid_auto_flow": null,
            "grid_auto_rows": null,
            "grid_column": null,
            "grid_gap": null,
            "grid_row": null,
            "grid_template_areas": null,
            "grid_template_columns": null,
            "grid_template_rows": null,
            "height": null,
            "justify_content": null,
            "justify_items": null,
            "left": null,
            "margin": null,
            "max_height": null,
            "max_width": null,
            "min_height": null,
            "min_width": null,
            "object_fit": null,
            "object_position": null,
            "order": null,
            "overflow": null,
            "overflow_x": null,
            "overflow_y": null,
            "padding": null,
            "right": null,
            "top": null,
            "visibility": null,
            "width": null
          }
        },
        "64e1c29414b5466ca009d80e34c2473c": {
          "model_module": "@jupyter-widgets/controls",
          "model_name": "ProgressStyleModel",
          "model_module_version": "1.5.0",
          "state": {
            "_model_module": "@jupyter-widgets/controls",
            "_model_module_version": "1.5.0",
            "_model_name": "ProgressStyleModel",
            "_view_count": null,
            "_view_module": "@jupyter-widgets/base",
            "_view_module_version": "1.2.0",
            "_view_name": "StyleView",
            "bar_color": null,
            "description_width": ""
          }
        },
        "ebe52e20e2924ec9ba011e7593ca4858": {
          "model_module": "@jupyter-widgets/base",
          "model_name": "LayoutModel",
          "model_module_version": "1.2.0",
          "state": {
            "_model_module": "@jupyter-widgets/base",
            "_model_module_version": "1.2.0",
            "_model_name": "LayoutModel",
            "_view_count": null,
            "_view_module": "@jupyter-widgets/base",
            "_view_module_version": "1.2.0",
            "_view_name": "LayoutView",
            "align_content": null,
            "align_items": null,
            "align_self": null,
            "border": null,
            "bottom": null,
            "display": null,
            "flex": null,
            "flex_flow": null,
            "grid_area": null,
            "grid_auto_columns": null,
            "grid_auto_flow": null,
            "grid_auto_rows": null,
            "grid_column": null,
            "grid_gap": null,
            "grid_row": null,
            "grid_template_areas": null,
            "grid_template_columns": null,
            "grid_template_rows": null,
            "height": null,
            "justify_content": null,
            "justify_items": null,
            "left": null,
            "margin": null,
            "max_height": null,
            "max_width": null,
            "min_height": null,
            "min_width": null,
            "object_fit": null,
            "object_position": null,
            "order": null,
            "overflow": null,
            "overflow_x": null,
            "overflow_y": null,
            "padding": null,
            "right": null,
            "top": null,
            "visibility": null,
            "width": null
          }
        },
        "2ed15ea709f44164a68473e479c8bf11": {
          "model_module": "@jupyter-widgets/controls",
          "model_name": "DescriptionStyleModel",
          "model_module_version": "1.5.0",
          "state": {
            "_model_module": "@jupyter-widgets/controls",
            "_model_module_version": "1.5.0",
            "_model_name": "DescriptionStyleModel",
            "_view_count": null,
            "_view_module": "@jupyter-widgets/base",
            "_view_module_version": "1.2.0",
            "_view_name": "StyleView",
            "description_width": ""
          }
        }
      }
    }
  },
  "cells": [
    {
      "cell_type": "markdown",
      "metadata": {
        "id": "view-in-github",
        "colab_type": "text"
      },
      "source": [
        "<a href=\"https://colab.research.google.com/github/k-dinakaran/movie-recommendation-system-using-collaborative-filtering/blob/main/movie_recommendation_system_using_collaborative_filtering.ipynb\" target=\"_parent\"><img src=\"https://colab.research.google.com/assets/colab-badge.svg\" alt=\"Open In Colab\"/></a>"
      ]
    },
    {
      "cell_type": "code",
      "source": [
        "!pip install implicit"
      ],
      "metadata": {
        "colab": {
          "base_uri": "https://localhost:8080/"
        },
        "id": "ALH9JkzRzSVD",
        "outputId": "0aeae29c-8af2-4015-cb2c-6208452f06b6"
      },
      "execution_count": 1,
      "outputs": [
        {
          "output_type": "stream",
          "name": "stdout",
          "text": [
            "Collecting implicit\n",
            "  Downloading implicit-0.7.2-cp311-cp311-manylinux2014_x86_64.whl.metadata (6.1 kB)\n",
            "Requirement already satisfied: numpy>=1.17.0 in /usr/local/lib/python3.11/dist-packages (from implicit) (2.0.2)\n",
            "Requirement already satisfied: scipy>=0.16 in /usr/local/lib/python3.11/dist-packages (from implicit) (1.14.1)\n",
            "Requirement already satisfied: tqdm>=4.27 in /usr/local/lib/python3.11/dist-packages (from implicit) (4.67.1)\n",
            "Requirement already satisfied: threadpoolctl in /usr/local/lib/python3.11/dist-packages (from implicit) (3.6.0)\n",
            "Downloading implicit-0.7.2-cp311-cp311-manylinux2014_x86_64.whl (8.9 MB)\n",
            "\u001b[2K   \u001b[90m━━━━━━━━━━━━━━━━━━━━━━━━━━━━━━━━━━━━━━━━\u001b[0m \u001b[32m8.9/8.9 MB\u001b[0m \u001b[31m19.6 MB/s\u001b[0m eta \u001b[36m0:00:00\u001b[0m\n",
            "\u001b[?25hInstalling collected packages: implicit\n",
            "Successfully installed implicit-0.7.2\n"
          ]
        }
      ]
    },
    {
      "cell_type": "code",
      "source": [
        "import os\n",
        "import kagglehub\n",
        "import pandas as pd\n",
        "import numpy as np\n",
        "from scipy.sparse import csr_matrix\n",
        "from implicit.als import AlternatingLeastSquares\n",
        "\n",
        "# Download dataset\n",
        "path = kagglehub.dataset_download(\"grouplens/movielens-20m-dataset\")\n",
        "print(\"Path to dataset files:\", path)\n",
        "\n",
        "# Define dataset path\n",
        "path = \"/root/.cache/kagglehub/datasets/grouplens/movielens-20m-dataset/versions/1\"\n",
        "files = os.listdir(path)\n",
        "print(\"Files in the dataset directory:\", files)\n",
        "\n",
        "# Load Ratings Data\n",
        "ratings_file = os.path.join(path, \"rating.csv\")\n",
        "ratings = pd.read_csv(ratings_file, usecols=[\"userId\", \"movieId\", \"rating\"], dtype={\"userId\": np.int32, \"movieId\": np.int32, \"rating\": np.float32})\n",
        "print(\"Ratings dataset sample:\")\n",
        "print(ratings.head())\n",
        "\n",
        "# Load Movies Data\n",
        "movies_file = os.path.join(path, \"movie.csv\")\n",
        "movies = pd.read_csv(movies_file, usecols=[\"movieId\", \"title\"], dtype={\"movieId\": np.int32, \"title\": str})\n",
        "print(\"Movies dataset sample:\")\n",
        "print(movies.head())\n",
        "\n",
        "# Convert to Sparse Matrix\n",
        "user_item_matrix = csr_matrix((ratings['rating'], (ratings['userId'], ratings['movieId'])))\n",
        "\n",
        "# Train ALS Model\n",
        "als_model = AlternatingLeastSquares(factors=50, regularization=0.1, iterations=20)\n",
        "als_model.fit(user_item_matrix)\n",
        "\n",
        "# Function to recommend movies\n",
        "def recommend_movies(user_id, n=5):\n",
        "    user_id -= 1  # Adjust for zero-based indexing\n",
        "    if user_id not in range(user_item_matrix.shape[0]):\n",
        "        print(\"User ID not found!\")\n",
        "        return []\n",
        "\n",
        "    recommendations = als_model.recommend(user_id, user_item_matrix[user_id], N=n)\n",
        "    recommended_movies = [(movies[movies['movieId'] == movie_id]['title'].values[0], score) for movie_id, score, *_ in recommendations if not movies[movies['movieId'] == movie_id].empty]\n",
        "    return recommended_movies"
      ],
      "metadata": {
        "colab": {
          "base_uri": "https://localhost:8080/",
          "height": 434,
          "referenced_widgets": [
            "29a348800a2a4830ace94ec8fc7fa3b3",
            "0b543e65a7b844c1ae5ca17107c3a8dd",
            "f58c1ce71a4247f6a15c61ba94ffb16c",
            "fca0047086d24ec582062e0f1f845e31",
            "a80e9d98edde4ec7bb673ddbec9c343e",
            "acbde450cdfb470d9f540feaefd47890",
            "bf0c802de3d54c5c82cc748178d07b10",
            "556183e2b62541ffaa2c58319f012b55",
            "64e1c29414b5466ca009d80e34c2473c",
            "ebe52e20e2924ec9ba011e7593ca4858",
            "2ed15ea709f44164a68473e479c8bf11"
          ]
        },
        "id": "LTITW-DdzfUb",
        "outputId": "288df247-3d0e-42ed-8d0f-e183f9c7e8c4"
      },
      "execution_count": 2,
      "outputs": [
        {
          "output_type": "stream",
          "name": "stdout",
          "text": [
            "Downloading from https://www.kaggle.com/api/v1/datasets/download/grouplens/movielens-20m-dataset?dataset_version_number=1...\n"
          ]
        },
        {
          "output_type": "stream",
          "name": "stderr",
          "text": [
            "100%|██████████| 195M/195M [00:09<00:00, 21.0MB/s]"
          ]
        },
        {
          "output_type": "stream",
          "name": "stdout",
          "text": [
            "Extracting files...\n"
          ]
        },
        {
          "output_type": "stream",
          "name": "stderr",
          "text": [
            "\n"
          ]
        },
        {
          "output_type": "stream",
          "name": "stdout",
          "text": [
            "Path to dataset files: /root/.cache/kagglehub/datasets/grouplens/movielens-20m-dataset/versions/1\n",
            "Files in the dataset directory: ['tag.csv', 'genome_tags.csv', 'rating.csv', 'link.csv', 'movie.csv', 'genome_scores.csv']\n",
            "Ratings dataset sample:\n",
            "   userId  movieId  rating\n",
            "0       1        2     3.5\n",
            "1       1       29     3.5\n",
            "2       1       32     3.5\n",
            "3       1       47     3.5\n",
            "4       1       50     3.5\n",
            "Movies dataset sample:\n",
            "   movieId                               title\n",
            "0        1                    Toy Story (1995)\n",
            "1        2                      Jumanji (1995)\n",
            "2        3             Grumpier Old Men (1995)\n",
            "3        4            Waiting to Exhale (1995)\n",
            "4        5  Father of the Bride Part II (1995)\n"
          ]
        },
        {
          "output_type": "stream",
          "name": "stderr",
          "text": [
            "/usr/local/lib/python3.11/dist-packages/implicit/cpu/als.py:95: RuntimeWarning: OpenBLAS is configured to use 2 threads. It is highly recommended to disable its internal threadpool by setting the environment variable 'OPENBLAS_NUM_THREADS=1' or by calling 'threadpoolctl.threadpool_limits(1, \"blas\")'. Having OpenBLAS use a threadpool can lead to severe performance issues here.\n",
            "  check_blas_config()\n"
          ]
        },
        {
          "output_type": "display_data",
          "data": {
            "text/plain": [
              "  0%|          | 0/20 [00:00<?, ?it/s]"
            ],
            "application/vnd.jupyter.widget-view+json": {
              "version_major": 2,
              "version_minor": 0,
              "model_id": "29a348800a2a4830ace94ec8fc7fa3b3"
            }
          },
          "metadata": {}
        }
      ]
    },
    {
      "cell_type": "code",
      "source": [
        "# User input\n",
        "user_id = int(input(\"Enter a User ID: \"))\n",
        "n_recommendations = int(input(\"Enter number of recommendations: \"))\n",
        "\n",
        "# Generate recommendations\n",
        "recommended_movies = recommend_movies(user_id, n_recommendations)\n",
        "print(f\"Recommended Movies for User {user_id}:\")\n",
        "for movie, rating in recommended_movies:\n",
        "    print(f\"{movie} (Predicted Score: {rating:.2f})\")"
      ],
      "metadata": {
        "id": "dEHuMlpx2XKf",
        "colab": {
          "base_uri": "https://localhost:8080/"
        },
        "outputId": "ea280b67-a755-4173-c5c7-354a5e2f24d7"
      },
      "execution_count": 6,
      "outputs": [
        {
          "output_type": "stream",
          "name": "stdout",
          "text": [
            "Enter a User ID: 5\n",
            "Enter number of recommendations: 3\n",
            "Recommended Movies for User 5:\n",
            "Mrs. Doubtfire (1993) (Predicted Score: 597.00)\n"
          ]
        }
      ]
    },
    {
      "cell_type": "code",
      "source": [],
      "metadata": {
        "id": "XYlIRyJJ2T5r"
      },
      "execution_count": null,
      "outputs": []
    }
  ]
}